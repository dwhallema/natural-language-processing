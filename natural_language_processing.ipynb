{
 "cells": [
  {
   "cell_type": "markdown",
   "metadata": {},
   "source": [
    "# Text cleaning and natural language processing (Python, regex, NLTK, Gensim) \n",
    "\n",
    "Author: Dennis W. Hallema \n",
    "\n",
    "Description: Tools for extracting topics and other insights from raw text data, and presenting those insights. \n",
    "\n",
    "Depends: See `environment.yml`. \n",
    "\n",
    "Disclaimer: Use at your own risk. No responsibility is assumed for a user's application of these materials or related materials. \n",
    "\n",
    "Data: \n",
    "\n",
    "* Exerpt from *Nature* (10/2019), \"Quantum supremacy using a programmable superconducting processor.\" \n",
    "* Script of William Shakespeare's play *\"Troilus and Cressida\"* (c. 1602) \n",
    "* 12 Online Wikipedia articles on business performance \n",
    "\n",
    "<!-- \n",
    "Installation of polyglot:\n",
    "1. git clone https://github.com/aboSamoor/polyglot.git\n",
    "2. python setup.py install \n",
    "-->\n",
    "\n",
    "Contents:  \n",
    "* [Regular Expressions](#first-bullet)\n",
    "* [Tokenization with NLTK](#second-bullet)\n",
    "* [Non-ASCII tokenization (text with emojis)](#third-bullet)\n",
    "* [Charting sentence length](#fourth-bullet)\n",
    "* [Text cleaning and topic identification](#fifth-bullet)\n",
    "* [Creating and querying a corpus with gensim](#sixth-bullet)"
   ]
  },
  {
   "cell_type": "markdown",
   "metadata": {},
   "source": [
    "## Regular expressions <a class=\"anchor\" id=\"first-bullet\"></a>"
   ]
  },
  {
   "cell_type": "markdown",
   "metadata": {},
   "source": [
    "Demonstration of text parsing and text based search with regex."
   ]
  },
  {
   "cell_type": "code",
   "execution_count": 1,
   "metadata": {},
   "outputs": [
    {
     "name": "stdout",
     "output_type": "stream",
     "text": [
      "A fundamental challenge is to build a high-fidelity processor capable of running quantum algorithms in an exponentially large computational space. Here we report the use of a processor with programmable superconducting qubits to create quantum states on 53 qubits, corresponding to a computational state-space of dimension 2 to the power 53 (about 10 to the power 16).\n"
     ]
    }
   ],
   "source": [
    "# Import regex module\n",
    "import regex as re\n",
    "\n",
    "# Create str variable (source: https://www.nature.com/articles/s41586-019-1666-5)\n",
    "my_string = \"A fundamental challenge is to build a high-fidelity processor capable of running quantum algorithms in an exponentially large computational space. Here we report the use of a processor with programmable superconducting qubits to create quantum states on 53 qubits, corresponding to a computational state-space of dimension 2 to the power 53 (about 10 to the power 16).\"\n",
    "print(my_string)"
   ]
  },
  {
   "cell_type": "code",
   "execution_count": 2,
   "metadata": {},
   "outputs": [
    {
     "name": "stdout",
     "output_type": "stream",
     "text": [
      "['A fundamental challenge is to build a high-fidelity processor capable of running quantum algorithms in an exponentially large computational space', ' Here we report the use of a processor with programmable superconducting qubits to create quantum states on 53 qubits, corresponding to a computational state-space of dimension 2 to the power 53 (about 10 to the power 16)', '']\n"
     ]
    }
   ],
   "source": [
    "# Split on sentence endings\n",
    "sentence_endings = r\"[.?!]\"\n",
    "print(re.split(sentence_endings, my_string))"
   ]
  },
  {
   "cell_type": "code",
   "execution_count": 3,
   "metadata": {},
   "outputs": [
    {
     "name": "stdout",
     "output_type": "stream",
     "text": [
      "['Here']\n",
      "['53', '2', '53', '10', '16']\n"
     ]
    }
   ],
   "source": [
    "# Find all capitalized words in my_string\n",
    "capitalized_words = r\"[A-Z]\\w+\"\n",
    "print(re.findall(capitalized_words, my_string))\n",
    "\n",
    "# Find all digits in my_string\n",
    "digits = r\"\\d+\"\n",
    "print(re.findall(digits, my_string))"
   ]
  },
  {
   "cell_type": "code",
   "execution_count": 4,
   "metadata": {},
   "outputs": [
    {
     "name": "stdout",
     "output_type": "stream",
     "text": [
      "Number of 'qubits' reported: ['53']\n"
     ]
    }
   ],
   "source": [
    "# Find how many \"qubits\" are reported in my_string (lookahead after match)\n",
    "qubits= r\"\\d+(?= qubits)\"\n",
    "print(\"Number of 'qubits' reported: \" + str(re.findall(qubits, my_string)))"
   ]
  },
  {
   "cell_type": "markdown",
   "metadata": {},
   "source": [
    "<i>Regular Expressions:</i> In this text sample, Google describes a processor with 53 programmable superconducting quantum bits (or qubits). We could use the same 'lookahead after match' regex query if we wanted to generate an inventory of the number of qubits mentioned in other reports. We will not do that here, instead we'll explore the next topic."
   ]
  },
  {
   "cell_type": "markdown",
   "metadata": {},
   "source": [
    "## Tokenization with NLTK <a class=\"anchor\" id=\"second-bullet\"></a>"
   ]
  },
  {
   "cell_type": "code",
   "execution_count": 5,
   "metadata": {},
   "outputs": [],
   "source": [
    "# Import modules\n",
    "import nltk\n",
    "from nltk.tokenize import sent_tokenize\n",
    "from nltk.tokenize import word_tokenize\n",
    "\n",
    "# Download NLTK packages\n",
    "x = nltk.download('punkt', quiet = True)\n",
    "x = nltk.download('wordnet', quiet = True)"
   ]
  },
  {
   "cell_type": "code",
   "execution_count": 6,
   "metadata": {},
   "outputs": [
    {
     "name": "stdout",
     "output_type": "stream",
     "text": [
      "SCENE II. Troy. A street.\n",
      "Enter Cressida and her man Alexander.\n",
      "\n",
      "CRESSIDA.\n",
      "Who were those went by?\n",
      "\n",
      "ALEXANDER.\n",
      "Queen Hecuba and Helen.\n",
      "\n",
      "CRESSIDA.\n",
      "And whither go they?\n",
      "\n",
      "ALEXANDER.\n",
      "Up to the eastern tow\n"
     ]
    }
   ],
   "source": [
    "# Import scene II of William Shakespeare's play \"Troilus and Cressida\"\n",
    "filename = \"data/troilus_scene2.txt\"\n",
    "with open(filename, 'r') as file:\n",
    "    scene_two = file.read()\n",
    "    \n",
    "# Print the beginning of the text\n",
    "print(scene_two[:200])"
   ]
  },
  {
   "cell_type": "code",
   "execution_count": 7,
   "metadata": {},
   "outputs": [
    {
     "name": "stdout",
     "output_type": "stream",
     "text": [
      "['Who', 'were', 'those', 'went', 'by', '?']\n",
      "Number of unique tokens: 6\n"
     ]
    }
   ],
   "source": [
    "# Split scene_two into sentences\n",
    "sentences = sent_tokenize(scene_two)\n",
    "\n",
    "# Tokenize (break up into words) the sixth sentence\n",
    "sent_tokens = word_tokenize(sentences[5])\n",
    "print(sent_tokens)\n",
    "\n",
    "# Count the number of tokens\n",
    "print(\"Number of unique tokens: \" + str(len(sent_tokens)))"
   ]
  },
  {
   "cell_type": "code",
   "execution_count": 8,
   "metadata": {},
   "outputs": [
    {
     "name": "stdout",
     "output_type": "stream",
     "text": [
      "['Here', 'wit', 'maxim', 'bak', 'thousand', 'though', 'about', 'cares', '-Good', 'think', 'Paris', 'mercy', 'Men', 'an', 'know', 'dolts', 'choose', 'like', 'Look', 'Upon', 'Phrygia', 'fire', 'It', 'wooing', 'whither', 'virtue', 'higher', 'forked', 'Troilus-', 'toward', 'been', 'Faith', 'men', 'sauced', 'i', 'who', \"'Jupiter\", \"E'en\", \"'d\", 'Greece', 'tapster', 'attaint', 'bear', 'cop', 'uncle', 'Things', 'patience', 'heart', 'Whose', 'Is', 'height', 'up', 'is', 'everything', 'did', 'much', 'lifter', 'Pardon', 'Swords', \"'Two\", 'boy', 'th', 'am', 'laugh', 'prize', \"'and\", 'prophet', 'pass', 'melancholy', \"to't\", 'humours', 'firm', 'say', 'thing', 'admirable', 'eyes', 'judgement', 'noise', 'meat', 'lie', 'II', 'stain', 'my', 'nature', 'may', 'field', 'had', 'chickens', 'crush', 'cloven', 'watch', 'prove', 'appear', 'soldiers', 'Deiphobus', 'crowded', 'whose', 'How', 'By', 'become']\n",
      "Number of tokens: 737\n"
     ]
    }
   ],
   "source": [
    "# Tokenize the entire scene\n",
    "scene_tokens = set(word_tokenize(scene_two))\n",
    "\n",
    "# Print the tokens\n",
    "print(list(scene_tokens)[:100])\n",
    "\n",
    "# Count the number of tokens\n",
    "print(\"Number of tokens: \" + str(len(scene_tokens)))"
   ]
  },
  {
   "cell_type": "code",
   "execution_count": 9,
   "metadata": {},
   "outputs": [
    {
     "name": "stdout",
     "output_type": "stream",
     "text": [
      "270 276\n"
     ]
    }
   ],
   "source": [
    "# Search for the first occurrence of \"Hector\" in scene_two and print \n",
    "match = re.search(\"Hector\", scene_two)\n",
    "\n",
    "# Print the start and end indexes of match\n",
    "print(match.start(), match.end())"
   ]
  },
  {
   "cell_type": "markdown",
   "metadata": {},
   "source": [
    "## Non-ASCII tokenization (text with emojis) <a class=\"anchor\" id=\"third-bullet\"></a>"
   ]
  },
  {
   "cell_type": "code",
   "execution_count": 10,
   "metadata": {},
   "outputs": [
    {
     "name": "stdout",
     "output_type": "stream",
     "text": [
      "['Tu', 'viens', 'me', 'chercher', 'STP', '😀🙏']\n"
     ]
    }
   ],
   "source": [
    "# Import modules\n",
    "from nltk.tokenize import regexp_tokenize, TweetTokenizer\n",
    "\n",
    "# Create str variable\n",
    "french_text = \"Tu viens me chercher STP 😀🙏\"\n",
    "\n",
    "# Tokenize all words in french_text\n",
    "all_words = word_tokenize(french_text)\n",
    "print(all_words)"
   ]
  },
  {
   "cell_type": "code",
   "execution_count": 11,
   "metadata": {},
   "outputs": [
    {
     "name": "stdout",
     "output_type": "stream",
     "text": [
      "['Tu', 'STP']\n",
      "['😀', '🙏']\n"
     ]
    }
   ],
   "source": [
    "# Tokenize only capital words\n",
    "capital_words = r\"[A-Z|Ü]\\w+\"\n",
    "print(regexp_tokenize(french_text, capital_words))\n",
    "\n",
    "# Tokenize only emojis\n",
    "emoji = \"['\\U0001F300-\\U0001F5FF'|'\\U0001F600-\\U0001F64F'|'\\U0001F680-\\U0001F6FF'|'\\u2600-\\u26FF\\u2700-\\u27BF']\"\n",
    "print(regexp_tokenize(french_text, emoji))"
   ]
  },
  {
   "cell_type": "markdown",
   "metadata": {},
   "source": [
    "<i>Non-ASCII tokenization:</i> The above example demonstrates that tokenization is not limited to ASCII text. UTF character encodings (including emojis) can also be tokenized. This is useful in sentiment analysis, for example."
   ]
  },
  {
   "cell_type": "markdown",
   "metadata": {},
   "source": [
    "## Charting sentence length <a class=\"anchor\" id=\"fourth-bullet\"></a>"
   ]
  },
  {
   "cell_type": "code",
   "execution_count": 12,
   "metadata": {},
   "outputs": [
    {
     "name": "stdout",
     "output_type": "stream",
     "text": [
      "SCENE: Troy and the Greek camp before it\n",
      "\n",
      "\n",
      "\n",
      "\n",
      "\n",
      "PROLOGUE\n",
      "In Troy, there lies the scene. From isles of Greece\n",
      "The princes orgulous, their high blood chaf'd,\n",
      "Have to the port of Athens sent their ships\n",
      "Fraught with the ministers and instruments\n",
      "Of cruel war. Sixty and nine that wore\n",
      "Their crownets regal from the Athenian bay\n",
      "Put forth toward Phrygia; and their vow is made\n",
      "To ransack Troy, within whose\n"
     ]
    }
   ],
   "source": [
    "# Import the whole script of William Shakespeare's \"Troilus and Cressida\"\n",
    "filename = \"data/troilus.txt\"\n",
    "with open(filename, 'r') as file:\n",
    "    troilus = file.read()\n",
    "    \n",
    "# Print the beginning of the text\n",
    "print(troilus[:400])"
   ]
  },
  {
   "cell_type": "code",
   "execution_count": 13,
   "metadata": {},
   "outputs": [
    {
     "name": "stdout",
     "output_type": "stream",
     "text": [
      "Prompts still there: ['TROILUS.', 'Sweet Pandarus-', '', 'PANDARUS.', 'Pray you, speak no more to me: I will leave all as I found it, and there an end.', '', '[Exit Pandarus. An alarum.]']\n"
     ]
    }
   ],
   "source": [
    "# Split the script into lines\n",
    "lines = troilus.split('\\n')\n",
    "\n",
    "# Print lines\n",
    "print(\"Prompts still there: \" + str(lines[160:167]))"
   ]
  },
  {
   "cell_type": "code",
   "execution_count": 14,
   "metadata": {},
   "outputs": [
    {
     "name": "stdout",
     "output_type": "stream",
     "text": [
      "Prompts replaced with empty str: ['', 'Sweet Pandarus-', '', '', 'Pray you, speak no more to me: I will leave all as I found it, and there an end.', '', '']\n"
     ]
    }
   ],
   "source": [
    "# Remove prompts like 'TROILUS.', 'ACT 1' and '[Exit Pandarus.]' with regex\n",
    "pattern = \"^\\[(.*?)\\]$|^[A-Z]{2,}.*|^Enter.*$\"\n",
    "lines = [re.sub(pattern, '', l) for l in lines]\n",
    "\n",
    "# Print lines again\n",
    "print(\"Prompts replaced with empty str: \" + str(lines[160:167]))"
   ]
  },
  {
   "cell_type": "code",
   "execution_count": 15,
   "metadata": {},
   "outputs": [
    {
     "data": {
      "image/png": "[encoded data removed]",
      "text/plain": [
       "<Figure size 432x288 with 1 Axes>"
      ]
     },
     "metadata": {
      "needs_background": "light"
     },
     "output_type": "display_data"
    }
   ],
   "source": [
    "# Import modules\n",
    "import matplotlib.pyplot as plt\n",
    "import numpy as np\n",
    "%matplotlib inline\n",
    "\n",
    "# Tokenize each line\n",
    "tokenized_lines = [regexp_tokenize(s, r\"\\w+\") for s in lines]\n",
    "\n",
    "# Make a frequency list of lengths\n",
    "line_num_words = [len(t_line) for t_line in tokenized_lines]\n",
    "\n",
    "# Plot a histogram of sentence lengths with collection bin for high values\n",
    "bins = [0, 1, 2, 3, 4, 5, 6, 7, 8, 9, 10, 11, 12, 13, 14, 15, 200]\n",
    "plt.xlim([0, bins[-2] + 1])\n",
    "plt.hist(np.clip(line_num_words, bins[0], bins[-1]), bins=bins)\n",
    "plt.gca().set(title = \"Shakespeare\\'s play \\\"Troilus and Cressida\\\" (c. 1602)\", \n",
    "              xlabel = \"Sentence length (in words)\", ylabel = \"Frequency\")\n",
    "plt.show()"
   ]
  },
  {
   "cell_type": "markdown",
   "metadata": {},
   "source": [
    "<i>Charting sentence length with NLTK:</i> The histogram shows that most lines are non-dialogue lines (speaker prompts, stage instructions or vertical space). Dialogue lines are typically 9 words long. There are also lines of 15 words and longer, meaning that we should insert line breaks to make it easier to read the script on stage."
   ]
  },
  {
   "cell_type": "markdown",
   "metadata": {},
   "source": [
    "## Text cleaning and topic identification <a class=\"anchor\" id=\"fifth-bullet\"></a>"
   ]
  },
  {
   "cell_type": "code",
   "execution_count": 16,
   "metadata": {},
   "outputs": [
    {
     "name": "stdout",
     "output_type": "stream",
     "text": [
      "SCENE: Troy and the Greek camp before it\n",
      "\n",
      "\n",
      "\n",
      "\n",
      "\n",
      "PROLOGUE\n",
      "In Troy, there lies the scene. From isles of Greece\n",
      "The princes orgulous, their high blood chaf'd,\n",
      "Have to the port of Athens sent their ships\n",
      "Fraught with the ministers and instruments\n",
      "Of cruel war. Sixty and nine that wore\n",
      "Their crownets regal from the Athenian bay\n",
      "Put forth toward Phrygia; and their vow is made\n",
      "To ransack Troy, within whose\n"
     ]
    }
   ],
   "source": [
    "# Import William Shakespeare's play \"Troilus and Cressida\"\n",
    "filename = \"data/troilus.txt\"\n",
    "with open(filename, 'r') as file:\n",
    "    troilus = file.read()\n",
    "\n",
    "# Print the beginning of the text\n",
    "print(troilus[:400])"
   ]
  },
  {
   "cell_type": "code",
   "execution_count": 17,
   "metadata": {},
   "outputs": [
    {
     "name": "stdout",
     "output_type": "stream",
     "text": [
      "[('.', 2881), (',', 2620), ('the', 816), ('and', 793), ('i', 604), (';', 584), ('to', 531), ('of', 507), ('a', 465), ('you', 441)]\n"
     ]
    }
   ],
   "source": [
    "# Building a Counter with bag-of-words\n",
    "\n",
    "# Import module\n",
    "from collections import Counter\n",
    "\n",
    "# Tokenize the text\n",
    "tokens = word_tokenize(troilus)\n",
    "\n",
    "# Convert the tokens into lowercase\n",
    "lower_tokens = [t.lower() for t in tokens]\n",
    "\n",
    "# Create a Counter with the lowercase tokens\n",
    "bow_simple = Counter(lower_tokens)\n",
    "\n",
    "# Print the 10 most common tokens\n",
    "print(bow_simple.most_common(10))"
   ]
  },
  {
   "cell_type": "markdown",
   "metadata": {},
   "source": [
    "The most common tokens (printed above) are punctuation and stop words but these are not useful in topic identification. We will therefore clean with regex and NLTK:\n",
    "<ol>\n",
    "    <li>Remove paragraphs we do not want to analyze</li>\n",
    "    <li>Remove numbers and punctiation</li>\n",
    "    <li>Remove stop words</li>\n",
    "    <li>Lemmatize the remaining words</li>\n",
    "</ol>\n",
    "Lemmatization groups inflected forms of a word so they can be analyzed as a single item. This is similar to stemming except it also performs morphological analysis, and links words with similar meaning to one word."
   ]
  },
  {
   "cell_type": "code",
   "execution_count": 18,
   "metadata": {},
   "outputs": [
    {
     "name": "stdout",
     "output_type": "stream",
     "text": [
      "\n",
      "\n",
      "\n",
      "\n",
      "\n",
      "\n",
      "\n",
      "In Troy, there lies the scene. From isles of Greece\n",
      "The princes orgulous, their high blood chaf'd,\n",
      "Have to the port of Athens sent their ships\n",
      "Fraught with the ministers and instruments\n",
      "Of cruel war. Sixty and nine that wore\n",
      "Their crownets regal from the Athenian bay\n",
      "Put forth toward Phrygia;\n"
     ]
    }
   ],
   "source": [
    "# Text cleaning with regex\n",
    "\n",
    "# Split the text into lines\n",
    "lines = troilus.split(\"\\n\")\n",
    "\n",
    "# Remove paragraphs we do not want to analyze (prompts \n",
    "# like 'TROILUS.', 'ACT 1' and '[Exit Pandarus.]')\n",
    "pattern = \"^\\[(.*?)\\]$|^[A-Z]{2,}.*|^Enter.*$\"\n",
    "lines = [re.sub(pattern, '', l) for l in lines]\n",
    "\n",
    "# Recombine lines\n",
    "troilus_body = '\\n'.join(lines)\n",
    "print(troilus_body[:300])"
   ]
  },
  {
   "cell_type": "markdown",
   "metadata": {},
   "source": [
    "<i>Text cleaning with regex:</i> The text (printed above) no longer contains prompts like 'TROILUS.', 'ACT 1' and '[Exit Pandarus.]'."
   ]
  },
  {
   "cell_type": "code",
   "execution_count": 19,
   "metadata": {},
   "outputs": [
    {
     "name": "stdout",
     "output_type": "stream",
     "text": [
      "Most common tokens: [('shall', 126), ('hector', 121), ('come', 120), ('lord', 114), ('go', 85), ('troilus', 84), ('let', 79), ('love', 79), ('man', 77), ('good', 76), ('achilles', 74), ('would', 70), ('know', 63), ('like', 61), ('great', 61), ('say', 60), ('troy', 59), ('well', 59), ('tell', 58), ('one', 56)]\n"
     ]
    }
   ],
   "source": [
    "# Tokenize the text\n",
    "tokens = word_tokenize(troilus_body)\n",
    "\n",
    "# Convert the tokens into lowercase\n",
    "lower_tokens = [t.lower() for t in tokens]\n",
    "\n",
    "# Remove numbers and punctation\n",
    "alpha_only = [t for t in lower_tokens if t.isalpha()]\n",
    "\n",
    "# Remove stop words\n",
    "english_stops = ['i','me','my','myself','we','our','ours','ourselves','you','your','yours','yourself','yourselves','he','him','his','himself','she','her','hers','herself','it','its','itself','they','them','their','theirs','themselves','what','which','who','whom','this','that','these','those','am','is','are','was','were','be','been','being','have','has','had','having','do','does','did','doing','a','an','the','and','but','if','or','because','as','until','while','of','at','by','for','with','about','against','between','into','through','during','before','after','above','below','to','from','up','down','in','out','on','off','over','under','again','further','then','once','here','there','when','where','why','how','all','any','both','each','few','more','most','other','some','such','no','nor','not','only','own','same','so','than','too','very','s','t','can','will','just','don','should','now','d','ll','m','o','re','ve','y','ain','aren','couldn','didn','doesn','hadn','hasn','haven','isn','ma','mightn','mustn','needn','shan','shouldn','wasn','weren','won','']\n",
    "earlymodern_stops = ['art','doth','dost','\\'ere','hast','hath','hence','hither','nigh','oft','should\\'st','thither','tither','thee','thou','thine','thy','\\'tis','\\'twas','wast','whence','wherefore','whereto','withal','would\\'st','ye','yon','yonder']\n",
    "no_stops = [t for t in alpha_only if t not in (english_stops + earlymodern_stops)]\n",
    "\n",
    "# Instantiate the WordNetLemmatizer\n",
    "from nltk.stem import WordNetLemmatizer\n",
    "wordnet_lemmatizer = WordNetLemmatizer()\n",
    "\n",
    "# Lemmatize all tokens into a new list (sort words by grouping inflected or variant forms of the same word)\n",
    "lemmatized = [wordnet_lemmatizer.lemmatize(t) for t in no_stops]\n",
    "\n",
    "# Create the bag-of-words\n",
    "bow = Counter(lemmatized)\n",
    "\n",
    "print(\"Most common tokens: \" + str(bow.most_common(20)))"
   ]
  },
  {
   "cell_type": "markdown",
   "metadata": {},
   "source": [
    "<i>Topic identification of Shakespeare's \"Troilus and Cressida\":</i> The signature of Elizabethan stage plays is evident from the frequent occurrence of words like 'shall' and 'lord' (see above). Hector, Troilus and Achilles are the most frequently talked about characters in that particular order (remember that we removed the character prompts). Also frequently mentioned are 'love' and 'troy'. After cleaning, tokenizing, and lemmatizing the text with regex and NLTK, we now have a good idea of the who, what and where of the play without having read it."
   ]
  },
  {
   "cell_type": "markdown",
   "metadata": {},
   "source": [
    "## Creating and querying a corpus with Gensim <a class=\"anchor\" id=\"sixth-bullet\"></a>"
   ]
  },
  {
   "cell_type": "markdown",
   "metadata": {},
   "source": [
    "A text corpus is a set of texts that we can analyze and query. Here, we'll download a series of articles from the web, build a corpus and perform analysis on the corpus."
   ]
  },
  {
   "cell_type": "code",
   "execution_count": 20,
   "metadata": {},
   "outputs": [],
   "source": [
    "# Import modules\n",
    "import requests\n",
    "import bs4\n",
    "from nltk.stem import WordNetLemmatizer\n",
    "from nltk.tokenize import word_tokenize\n",
    "from gensim.corpora.dictionary import Dictionary"
   ]
  },
  {
   "cell_type": "code",
   "execution_count": 21,
   "metadata": {},
   "outputs": [
    {
     "name": "stdout",
     "output_type": "stream",
     "text": [
      "Number of articles retrieved: 12\n"
     ]
    }
   ],
   "source": [
    "# Create list of web article urls\n",
    "urls = [\"https://en.wikipedia.org/wiki/Revenue\",\n",
    "        \"https://en.wikipedia.org/wiki/Profit_margin\",\n",
    "        \"https://en.wikipedia.org/wiki/Gross_margin\",\n",
    "        \"https://en.wikipedia.org/wiki/Customer_acquisition_cost\",\n",
    "        \"https://en.wikipedia.org/wiki/Customer_retention\",\n",
    "        \"https://en.wikipedia.org/wiki/Loyalty_marketing\",\n",
    "        \"https://en.wikipedia.org/wiki/Net_Promoter\",\n",
    "        \"https://en.wikipedia.org/wiki/Lead_generation\",\n",
    "        \"https://en.wikipedia.org/wiki/Conversion_rate_optimization\",\n",
    "        \"https://en.wikipedia.org/wiki/Web_analytics\",\n",
    "        \"https://en.wikipedia.org/wiki/Benchmarking\",\n",
    "        \"https://en.wikipedia.org/wiki/Employee_engagement\"\n",
    "        ]\n",
    "\n",
    "# Create list variable for GET query results\n",
    "responses = []\n",
    "\n",
    "# Get web articles\n",
    "for url in urls:\n",
    "    try:\n",
    "        r = requests.get(url)\n",
    "        r.raise_for_status()\n",
    "    except HTTPError as http_err:\n",
    "        print(f'HTTP error occurred: {http_err}')\n",
    "    except Exception as err:\n",
    "        print(f'Exception occurred: {err}')\n",
    "    else:\n",
    "        \n",
    "        # Append query response\n",
    "        responses.append(r)\n",
    "        \n",
    "print(\"Number of articles retrieved: \" + str(len(responses)))"
   ]
  },
  {
   "cell_type": "markdown",
   "metadata": {},
   "source": [
    "If the GET query fails for an URL, the code above will skip the unresponsive URL and try next URL. The result is a list of length *n* containing the query results, where *n* equals the number of articles that were retrieved successfully."
   ]
  },
  {
   "cell_type": "code",
   "execution_count": 22,
   "metadata": {},
   "outputs": [
    {
     "name": "stdout",
     "output_type": "stream",
     "text": [
      "Article 0: In accounting, revenue is the income that a business has from its norm\n",
      "Article 1: Profit margin, net margin, net profit margin or net profit ratio is a \n",
      "Article 2: Gross margin is the difference between revenue and cost of goods sold \n",
      "Article 3: Customer Acquisition Cost (CAC) is the cost associated in convincing a\n",
      "Article 4: Customer retention refers to the ability of a company or product to re\n",
      "Article 5: Loyalty marketing is an approach to marketing, based on strategic mana\n",
      "Article 6: \n",
      "Net Promoter or Net Promoter Score (NPS) is a management tool that ca\n",
      "Article 7: \n",
      "\n",
      "In marketing, lead generation (/ˈliːd/) is the initiation of consume\n",
      "Article 8: In internet marketing, and web analytics conversion optimization, or c\n",
      "Article 9: Web analytics is the measurement, collection, analysis and reporting o\n",
      "Article 10: Benchmarking is the practice of comparing business processes and perfo\n",
      "Article 11: Employee engagement is a fundamental concept in the effort to understa\n"
     ]
    }
   ],
   "source": [
    "# Create list variable for document tokens\n",
    "articles = []\n",
    "articles_text = []\n",
    "\n",
    "# Extract text, clean text, tokenize and lemmatize for each article\n",
    "for r in responses:\n",
    "    \n",
    "    # Extract text from HTML\n",
    "    html = bs4.BeautifulSoup(r.text, 'html.parser')\n",
    "    paragraphs = html.select(\"p\")\n",
    "    text = '\\n'.join([ para.text for para in paragraphs])\n",
    "    articles_text.append(text)\n",
    "    \n",
    "    # Tokenize the text\n",
    "    tokens = word_tokenize(text)\n",
    "\n",
    "    # Convert the tokens into lowercase\n",
    "    lower_tokens = [t.lower() for t in tokens]\n",
    "\n",
    "    # Remove numbers and punctation\n",
    "    alpha_only = [t for t in lower_tokens if t.isalpha()]\n",
    "\n",
    "    # Remove stop words\n",
    "    english_stops = ['i','me','my','myself','we','our','ours','ourselves','you','your','yours','yourself','yourselves','he','him','his','himself','she','her','hers','herself','it','its','itself','they','them','their','theirs','themselves','what','which','who','whom','this','that','these','those','am','is','are','was','were','be','been','being','have','has','had','having','do','does','did','doing','a','an','the','and','but','if','or','because','as','until','while','of','at','by','for','with','about','against','between','into','through','during','before','after','above','below','to','from','up','down','in','out','on','off','over','under','again','further','then','once','here','there','when','where','why','how','all','any','both','each','few','more','most','other','some','such','no','nor','not','only','own','same','so','than','too','very','s','t','can','will','just','don','should','now','d','ll','m','o','re','ve','y','ain','aren','couldn','didn','doesn','hadn','hasn','haven','isn','ma','mightn','mustn','needn','shan','shouldn','wasn','weren','won','']\n",
    "    no_stops = [t for t in alpha_only if t not in english_stops]\n",
    "\n",
    "    # Lemmatize all tokens into a new list\n",
    "    wordnet_lemmatizer = WordNetLemmatizer()\n",
    "    lemmatized = [wordnet_lemmatizer.lemmatize(t) for t in no_stops]\n",
    "    \n",
    "    # Append lemmatized to list of document tokens\n",
    "    articles.append(lemmatized)\n",
    "\n",
    "# Print the beginning of each article\n",
    "x = [print(\"Article \" + str(i) + \": \" + t[:70]) for i,t in enumerate(articles_text)]\n"
   ]
  },
  {
   "cell_type": "markdown",
   "metadata": {},
   "source": [
    "The 12 articles above are all related to business performance. For each of the articles we downloaded the HTML, extracted the text from HTML, cleaned the text, tokenized and lemmatized the tokens. Finally, we combined the result in a list variable. Next, we will create a corpus of these articles, and perform queries on the corpus."
   ]
  },
  {
   "cell_type": "code",
   "execution_count": 23,
   "metadata": {},
   "outputs": [
    {
     "name": "stdout",
     "output_type": "stream",
     "text": [
      "cost\n"
     ]
    }
   ],
   "source": [
    "# Create a Dictionary from the articles\n",
    "dictionary = Dictionary(articles)\n",
    "\n",
    "# Select the id for \"cost\"\n",
    "cost_id = dictionary.token2id.get(\"cost\")\n",
    "\n",
    "# Use score_id with the dictionary to print the word\n",
    "print(dictionary.get(cost_id))"
   ]
  },
  {
   "cell_type": "code",
   "execution_count": 24,
   "metadata": {},
   "outputs": [
    {
     "name": "stdout",
     "output_type": "stream",
     "text": [
      "[(10, 2), (29, 6), (30, 1), (44, 3), (57, 15), (93, 1), (94, 1), (101, 1), (107, 1), (121, 1)]\n"
     ]
    }
   ],
   "source": [
    "# Create a MmCorpus: corpus\n",
    "corpus = [dictionary.doc2bow(article) for article in articles]\n",
    "\n",
    "# Print the first 10 word ids with their frequency counts from the third document\n",
    "print(corpus[3][:10])"
   ]
  },
  {
   "cell_type": "code",
   "execution_count": 25,
   "metadata": {},
   "outputs": [
    {
     "name": "stdout",
     "output_type": "stream",
     "text": [
      "margin 63\n",
      "gross 39\n",
      "cost 35\n",
      "profit 27\n",
      "sale 22\n"
     ]
    }
   ],
   "source": [
    "# Gensim bag-of-words\n",
    "\n",
    "# Import modules\n",
    "from collections import defaultdict\n",
    "import itertools\n",
    "\n",
    "# Save the third document\n",
    "doc = corpus[2]\n",
    "\n",
    "# Sort the doc for frequency\n",
    "bow_doc = sorted(doc, key=lambda w: w[1], reverse=True)\n",
    "\n",
    "# Print the most frequently occurring words in the third document\n",
    "for word_id, word_count in bow_doc[:5]:\n",
    "    print(dictionary.get(word_id), word_count)"
   ]
  },
  {
   "cell_type": "code",
   "execution_count": 26,
   "metadata": {},
   "outputs": [
    {
     "name": "stdout",
     "output_type": "stream",
     "text": [
      "customer 130\n",
      "company 89\n",
      "revenue 79\n",
      "margin 73\n",
      "lead 73\n",
      "cost 68\n",
      "marketing 63\n",
      "web 59\n",
      "business 58\n",
      "sale 55\n"
     ]
    }
   ],
   "source": [
    "# Create the defaultdict\n",
    "total_word_count = defaultdict(int)\n",
    "for word_id, word_count in itertools.chain.from_iterable(corpus):\n",
    "    total_word_count[word_id] += word_count\n",
    "\n",
    "# Print the most frequently occurring words in the corpus dictionary\n",
    "w2cSorted = dict(sorted(total_word_count.items(), key=lambda x: x[1],reverse=True)[:10])\n",
    "for word_id in w2cSorted:\n",
    "    print(dictionary.get(word_id), w2cSorted[word_id])"
   ]
  },
  {
   "cell_type": "markdown",
   "metadata": {},
   "source": [
    "<i>Text corpus of business performance articles: </i> Word counts on the whole corpus (above) suggest that 'customer', 'company' and 'revenue' are the most important concepts discussed in these 12 articles."
   ]
  }
 ],
 "metadata": {
  "kernelspec": {
   "display_name": "Python 3",
   "language": "python",
   "name": "python3"
  },
  "language_info": {
   "codemirror_mode": {
    "name": "ipython",
    "version": 3
   },
   "file_extension": ".py",
   "mimetype": "text/x-python",
   "name": "python",
   "nbconvert_exporter": "python",
   "pygments_lexer": "ipython3",
   "version": "3.6.9"
  }
 },
 "nbformat": 4,
 "nbformat_minor": 2
}
